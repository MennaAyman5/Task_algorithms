{
  "nbformat": 4,
  "nbformat_minor": 0,
  "metadata": {
    "colab": {
      "provenance": [],
      "authorship_tag": "ABX9TyM7UfWTbFcn76fbNd/9jmrX",
      "include_colab_link": true
    },
    "kernelspec": {
      "name": "python3",
      "display_name": "Python 3"
    },
    "language_info": {
      "name": "python"
    }
  },
  "cells": [
    {
      "cell_type": "markdown",
      "metadata": {
        "id": "view-in-github",
        "colab_type": "text"
      },
      "source": [
        "<a href=\"https://colab.research.google.com/github/MennaAyman5/Task_algorithms/blob/main/kruskal's_algorithm.ipynb\" target=\"_parent\"><img src=\"https://colab.research.google.com/assets/colab-badge.svg\" alt=\"Open In Colab\"/></a>"
      ]
    },
    {
      "cell_type": "markdown",
      "source": [
        "# Kruskal's Algorithm"
      ],
      "metadata": {
        "id": "YaUZM_q9jlm1"
      }
    },
    {
      "cell_type": "code",
      "execution_count": 1,
      "metadata": {
        "colab": {
          "base_uri": "https://localhost:8080/"
        },
        "id": "y8lVoTCJe-ue",
        "outputId": "3618344b-4686-4e8e-bdbc-95683887ab44"
      },
      "outputs": [
        {
          "output_type": "stream",
          "name": "stdout",
          "text": [
            "1 - 2: 2\n",
            "2 - 5: 2\n",
            "2 - 3: 3\n",
            "3 - 4: 3\n",
            "0 - 1: 4\n"
          ]
        }
      ],
      "source": [
        "\n",
        "class Graph:\n",
        "    def __init__(self, vertices):\n",
        "        self.V = vertices\n",
        "        self.graph = []\n",
        "\n",
        "    def add_edge(self, u, v, w):\n",
        "        self.graph.append([u, v, w])\n",
        "\n",
        "\n",
        "    def find(self, parent, i):\n",
        "        if parent[i] == i:\n",
        "            return i\n",
        "        return self.find(parent, parent[i])\n",
        "\n",
        "    def apply_union(self, parent, rank, x, y):\n",
        "        xroot = self.find(parent, x)\n",
        "        yroot = self.find(parent, y)\n",
        "        if rank[xroot] < rank[yroot]:\n",
        "            parent[xroot] = yroot\n",
        "        elif rank[xroot] > rank[yroot]:\n",
        "            parent[yroot] = xroot\n",
        "        else:\n",
        "            parent[yroot] = xroot\n",
        "            rank[xroot] += 1\n",
        "\n",
        "    def kruskal_algo(self):\n",
        "        result = []\n",
        "        i, e = 0, 0\n",
        "        self.graph = sorted(self.graph, key=lambda item: item[2])\n",
        "        parent = []\n",
        "        rank = []\n",
        "        for node in range(self.V):\n",
        "            parent.append(node)\n",
        "            rank.append(0)\n",
        "        while e < self.V - 1:\n",
        "            u, v, w = self.graph[i]\n",
        "            i = i + 1\n",
        "            x = self.find(parent, u)\n",
        "            y = self.find(parent, v)\n",
        "            if x != y:\n",
        "                e = e + 1\n",
        "                result.append([u, v, w])\n",
        "                self.apply_union(parent, rank, x, y)\n",
        "        for u, v, weight in result:\n",
        "            print(\"%d - %d: %d\" % (u, v, weight))\n",
        "\n",
        "\n",
        "g = Graph(6)\n",
        "g.add_edge(0, 1, 4)\n",
        "g.add_edge(0, 2, 4)\n",
        "g.add_edge(1, 2, 2)\n",
        "g.add_edge(1, 0, 4)\n",
        "g.add_edge(2, 0, 4)\n",
        "g.add_edge(2, 1, 2)\n",
        "g.add_edge(2, 3, 3)\n",
        "g.add_edge(2, 5, 2)\n",
        "g.add_edge(2, 4, 4)\n",
        "g.add_edge(3, 2, 3)\n",
        "g.add_edge(3, 4, 3)\n",
        "g.add_edge(4, 2, 4)\n",
        "g.add_edge(4, 3, 3)\n",
        "g.add_edge(5, 2, 2)\n",
        "g.add_edge(5, 4, 3)\n",
        "g.kruskal_algo()"
      ]
    }
  ]
}