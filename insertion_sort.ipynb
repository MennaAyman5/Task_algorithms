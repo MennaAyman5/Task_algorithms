{
  "nbformat": 4,
  "nbformat_minor": 0,
  "metadata": {
    "colab": {
      "provenance": [],
      "authorship_tag": "ABX9TyPRnA/IZevk23cnIkH5ldxU",
      "include_colab_link": true
    },
    "kernelspec": {
      "name": "python3",
      "display_name": "Python 3"
    },
    "language_info": {
      "name": "python"
    }
  },
  "cells": [
    {
      "cell_type": "markdown",
      "metadata": {
        "id": "view-in-github",
        "colab_type": "text"
      },
      "source": [
        "<a href=\"https://colab.research.google.com/github/MennaAyman5/Task_algorithms/blob/main/insertion_sort.ipynb\" target=\"_parent\"><img src=\"https://colab.research.google.com/assets/colab-badge.svg\" alt=\"Open In Colab\"/></a>"
      ]
    },
    {
      "cell_type": "code",
      "source": [
        "def InsertionSort(a):\n",
        "  \n",
        "    for i in range(1, len(a)):\n",
        "  \n",
        "        x = a[i]\n",
        "        j = i-1\n",
        "        while j >=0 and x < a[j] :\n",
        "                a[j+1] = a[j]\n",
        "                j -= 1\n",
        "        a[j+1] = x\n",
        "\n",
        "     \n",
        "a = [9, 3, 1, 80, 22, 44, 6, 32, 94]\n",
        "print(\"Array before sorting:\")\n",
        "print(a)\n",
        "InsertionSort(a)\n",
        "print(\"Array after sorting:\")\n",
        "print(a)\n",
        "\n"
      ],
      "metadata": {
        "colab": {
          "base_uri": "https://localhost:8080/"
        },
        "id": "q25Y9ypBJfPh",
        "outputId": "3e6f697a-84fd-4013-8874-bc5191fbd16a"
      },
      "execution_count": 4,
      "outputs": [
        {
          "output_type": "stream",
          "name": "stdout",
          "text": [
            "Array before sorting:\n",
            "[9, 3, 1, 80, 22, 44, 6, 32, 94]\n",
            "Array after sorting:\n",
            "[1, 3, 6, 9, 22, 32, 44, 80, 94]\n"
          ]
        }
      ]
    }
  ]
}